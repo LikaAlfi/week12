{
  "nbformat": 4,
  "nbformat_minor": 0,
  "metadata": {
    "colab": {
      "provenance": [],
      "authorship_tag": "ABX9TyNPdJoH1aQBQj7s6gLD+4bp",
      "include_colab_link": true
    },
    "kernelspec": {
      "name": "python3",
      "display_name": "Python 3"
    },
    "language_info": {
      "name": "python"
    }
  },
  "cells": [
    {
      "cell_type": "markdown",
      "metadata": {
        "id": "view-in-github",
        "colab_type": "text"
      },
      "source": [
        "<a href=\"https://colab.research.google.com/github/LikaAlfi/week12/blob/main/week12.ipynb\" target=\"_parent\"><img src=\"https://colab.research.google.com/assets/colab-badge.svg\" alt=\"Open In Colab\"/></a>"
      ]
    },
    {
      "cell_type": "code",
      "source": [
        "#The try block will generate an exception, because x is not defined:\n",
        "try:\n",
        "  print(x)\n",
        "except:\n",
        "  print(\"Variable 'X' is not defined\")"
      ],
      "metadata": {
        "colab": {
          "base_uri": "https://localhost:8080/"
        },
        "id": "471lydmWBDVJ",
        "outputId": "bde96cb6-964b-44ec-8279-f1368d5d6f9b"
      },
      "execution_count": null,
      "outputs": [
        {
          "output_type": "stream",
          "name": "stdout",
          "text": [
            "Variable 'X' is not defined\n"
          ]
        }
      ]
    },
    {
      "cell_type": "code",
      "source": [
        "#Print one message if the try block raises a NameError and another for other errors:\n",
        "try:\n",
        "  print(x)\n",
        "except NameError:\n",
        "  print(\"Variable x is not defined\")\n",
        "except:\n",
        "  print(\"Something else went wrong\")"
      ],
      "metadata": {
        "colab": {
          "base_uri": "https://localhost:8080/"
        },
        "id": "1bdBXXA7BORI",
        "outputId": "da6a2465-1cc3-42f9-8be1-6412ea136893"
      },
      "execution_count": null,
      "outputs": [
        {
          "output_type": "stream",
          "name": "stdout",
          "text": [
            "Variable x is not defined\n"
          ]
        }
      ]
    },
    {
      "cell_type": "code",
      "source": [
        "#In this example, the try block does not generate any error:\n",
        "\n",
        "try:\n",
        "  print(\"Hello\")\n",
        "except:\n",
        "  print(\"Something went wrong\")\n",
        "else:\n",
        "  print(\"Nothing went wrong\")"
      ],
      "metadata": {
        "colab": {
          "base_uri": "https://localhost:8080/"
        },
        "id": "skIxh9o2BRy4",
        "outputId": "a9cced7f-3221-48db-cc68-397949bf3e91"
      },
      "execution_count": null,
      "outputs": [
        {
          "output_type": "stream",
          "name": "stdout",
          "text": [
            "Hello\n",
            "Nothing went wrong\n"
          ]
        }
      ]
    },
    {
      "cell_type": "code",
      "source": [
        "#In this example, the try block does not generate any error:\n",
        "\n",
        "try:\n",
        "  print(\"Hello\")\n",
        "except:\n",
        "  print(\"Something went wrong\")\n",
        "else:\n",
        "  print(\"Nothing went wrong\")\n",
        "finally:\n",
        "  print(\"Execution Completed\")"
      ],
      "metadata": {
        "colab": {
          "base_uri": "https://localhost:8080/"
        },
        "id": "_WDZylquBVTh",
        "outputId": "541099ee-cd73-487c-ed39-ae00396326cd"
      },
      "execution_count": null,
      "outputs": [
        {
          "output_type": "stream",
          "name": "stdout",
          "text": [
            "Hello\n",
            "Nothing went wrong\n",
            "Execution Completed\n"
          ]
        }
      ]
    },
    {
      "cell_type": "code",
      "source": [
        "try:\n",
        "  print(x)\n",
        "except:\n",
        "  print(\"Something went wrong\")\n",
        "finally:\n",
        "  print(\"The 'try except' is finished\")"
      ],
      "metadata": {
        "colab": {
          "base_uri": "https://localhost:8080/"
        },
        "id": "xXtNLfbJBXGh",
        "outputId": "84b860ac-1c72-4229-c38b-f141a4a04167"
      },
      "execution_count": null,
      "outputs": [
        {
          "output_type": "stream",
          "name": "stdout",
          "text": [
            "Something went wrong\n",
            "The 'try except' is finished\n"
          ]
        }
      ]
    },
    {
      "cell_type": "code",
      "source": [
        "#Try to open and write to a file that is not writable:\n",
        "\n",
        "try:\n",
        "  f = open(\"demofile.txt\")\n",
        "  try:\n",
        "    f.write(\"Lorum Ipsum\")\n",
        "  except:\n",
        "    print(\"Something went wrong when writing to the file\")\n",
        "  finally:\n",
        "    f.close()\n",
        "except:\n",
        "  print(\"Something went wrong when opening the file\")"
      ],
      "metadata": {
        "colab": {
          "base_uri": "https://localhost:8080/"
        },
        "id": "wop5zIZNBaO4",
        "outputId": "c5b6e694-646a-4fc3-d5a7-e7a706cf06d8"
      },
      "execution_count": null,
      "outputs": [
        {
          "output_type": "stream",
          "name": "stdout",
          "text": [
            "Something went wrong when opening the file\n"
          ]
        }
      ]
    },
    {
      "cell_type": "code",
      "source": [
        "import matematika1"
      ],
      "metadata": {
        "id": "mGufw7jBR8z0"
      },
      "execution_count": null,
      "outputs": []
    },
    {
      "cell_type": "code",
      "source": [
        "# weekly exercise 1\n",
        "# luas persegi\n",
        "from matematika1 import luas_persegi as luas_persegi_matematika1\n",
        "\n",
        "def luas_persegi(sisi):\n",
        "  try:\n",
        "      if sisi == 0:\n",
        "          raise ValueError(\"tidak boleh kosong\")\n",
        "      sisi = int(sisi)\n",
        "      return luas_persegi_matematika1(sisi)\n",
        "  except ValueError as error:\n",
        "      print(f\"Error : {error} sisi tidak boleh kosong dan hanya boleh memasukkan angka\")\n",
        "\n",
        "sisi = input(\"Masukkan sisi persegi: \")\n",
        "luas_persegi_result = luas_persegi(sisi)\n",
        "print(f\"Luas Persegi: {luas_persegi_result}\")\n",
        "\n",
        "# luas lingkaran\n",
        "from matematika1 import luas_lingkaran as luas_lingkaran_matematika1\n",
        "\n",
        "def luas_lingkaran(jari_jari):\n",
        "  try:\n",
        "      if jari_jari == 0:\n",
        "          raise ValueError(\"tidak boleh kosong\")\n",
        "      jari_jari = int(jari_jari)\n",
        "      return luas_lingkaran_matematika1(jari_jari)\n",
        "  except ValueError as error:\n",
        "      print(f\"Error : {error} jari-jari tidak boleh kosong dan hanya boleh memasukkan angka\")\n",
        "\n",
        "jari_jari = input(\"Masukkan jari-jari lingkaran: \")\n",
        "luas_lingkaran_result = luas_lingkaran(jari_jari)\n",
        "print(f\"Luas Lingkaran: {luas_lingkaran_result}\")"
      ],
      "metadata": {
        "colab": {
          "base_uri": "https://localhost:8080/"
        },
        "id": "Q4sgNoX9Bg3Q",
        "outputId": "20f86255-a73b-4a52-9d9e-1c146992130c"
      },
      "execution_count": null,
      "outputs": [
        {
          "output_type": "stream",
          "name": "stdout",
          "text": [
            "Masukkan sisi persegi: \n",
            "Error : invalid literal for int() with base 10: '' sisi tidak boleh kosong dan hanya boleh memasukkan angka\n",
            "Luas Persegi: None\n",
            "Masukkan jari-jari lingkaran: nct \n",
            "Error : invalid literal for int() with base 10: 'nct ' jari-jari tidak boleh kosong dan hanya boleh memasukkan angka\n",
            "Luas Lingkaran: None\n"
          ]
        }
      ]
    },
    {
      "cell_type": "code",
      "source": [
        "# weekly exercise 2\n",
        "\n",
        "NPM = input(\"masukkan NPM anda : \")\n",
        "ganjil = 0\n",
        "genap = 0\n",
        "\n",
        "for angka in NPM:\n",
        "  try:\n",
        "    if int(angka) % 2 == 0:\n",
        "      genap += 1\n",
        "    else:\n",
        "      ganjil += 1\n",
        "  except ValueError:\n",
        "    print(f\"Error: '{angka}' NPM tidak valid.\")\n",
        "    break\n",
        "\n",
        "print(f\"Jumlah bilangan genap   : {genap}\")\n",
        "print(f\"Jumlah bilangan ganjil  : {ganjil}\")"
      ],
      "metadata": {
        "colab": {
          "base_uri": "https://localhost:8080/"
        },
        "id": "xV5bvCmznioQ",
        "outputId": "3b75f45e-5983-42c1-9876-966fc002635e"
      },
      "execution_count": null,
      "outputs": [
        {
          "output_type": "stream",
          "name": "stdout",
          "text": [
            "masukkan NPM anda : lee jeno\n",
            "Error: 'l' NPM tidak valid.\n",
            "Jumlah bilangan genap   : 0\n",
            "Jumlah bilangan ganjil  : 0\n"
          ]
        }
      ]
    }
  ]
}